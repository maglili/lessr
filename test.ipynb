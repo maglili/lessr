{
 "metadata": {
  "language_info": {
   "codemirror_mode": {
    "name": "ipython",
    "version": 3
   },
   "file_extension": ".py",
   "mimetype": "text/x-python",
   "name": "python",
   "nbconvert_exporter": "python",
   "pygments_lexer": "ipython3",
   "version": "3.8.0"
  },
  "orig_nbformat": 2,
  "kernelspec": {
   "name": "python380jvsc74a57bd0aad9fa7f6ed343a042bd460ce7fa15eb6fc8d0afdca2e8e62a1852ae0075cd4e",
   "display_name": "Python 3.8.0 64-bit ('py38': virtualenvwrapper)"
  },
  "metadata": {
   "interpreter": {
    "hash": "aad9fa7f6ed343a042bd460ce7fa15eb6fc8d0afdca2e8e62a1852ae0075cd4e"
   }
  }
 },
 "nbformat": 4,
 "nbformat_minor": 2,
 "cells": [
  {
   "source": [
    "import dgl\n",
    "import torch as th\n",
    "\n",
    "th.manual_seed(0)"
   ],
   "cell_type": "code",
   "metadata": {},
   "execution_count": 24,
   "outputs": [
    {
     "output_type": "execute_result",
     "data": {
      "text/plain": [
       "<torch._C.Generator at 0x7f0d2007cf70>"
      ]
     },
     "metadata": {},
     "execution_count": 24
    }
   ]
  },
  {
   "cell_type": "code",
   "execution_count": 25,
   "metadata": {},
   "outputs": [
    {
     "output_type": "stream",
     "name": "stderr",
     "text": [
      "/home/lichang/.virtualenvs/py38/lib/python3.8/site-packages/dgl/base.py:45: DGLWarning: Recommend creating graphs by `dgl.graph(data)` instead of `dgl.DGLGraph(data)`.\n  return warnings.warn(message, category=category, stacklevel=1)\n"
     ]
    },
    {
     "output_type": "execute_result",
     "data": {
      "text/plain": [
       "Graph(num_nodes=2, num_edges=0,\n",
       "      ndata_schemes={}\n",
       "      edata_schemes={})"
      ]
     },
     "metadata": {},
     "execution_count": 25
    }
   ],
   "source": [
    "g1 = dgl.DGLGraph()  # Graph 1\n",
    "g1.add_nodes(2)\n",
    "g1\n"
   ]
  },
  {
   "cell_type": "code",
   "execution_count": 26,
   "metadata": {},
   "outputs": [
    {
     "output_type": "execute_result",
     "data": {
      "text/plain": [
       "Graph(num_nodes=3, num_edges=0,\n",
       "      ndata_schemes={}\n",
       "      edata_schemes={})"
      ]
     },
     "metadata": {},
     "execution_count": 26
    }
   ],
   "source": [
    "g2 = dgl.DGLGraph()  # Graph 2\n",
    "g2.add_nodes(3)\n",
    "g2"
   ]
  },
  {
   "cell_type": "code",
   "execution_count": 27,
   "metadata": {},
   "outputs": [
    {
     "output_type": "execute_result",
     "data": {
      "text/plain": [
       "Graph(num_nodes=5, num_edges=0,\n",
       "      ndata_schemes={}\n",
       "      edata_schemes={})"
      ]
     },
     "metadata": {},
     "execution_count": 27
    }
   ],
   "source": [
    "bg = dgl.batch([g1, g2])\n",
    "bg"
   ]
  },
  {
   "cell_type": "code",
   "execution_count": 30,
   "metadata": {},
   "outputs": [
    {
     "output_type": "execute_result",
     "data": {
      "text/plain": [
       "tensor([[0.6816, 0.9152, 0.3971, 0.8742, 0.4194],\n",
       "        [0.5529, 0.9527, 0.0362, 0.1852, 0.3734]])"
      ]
     },
     "metadata": {},
     "execution_count": 30
    }
   ],
   "source": [
    "feat = th.rand(2, 5)\n",
    "feat"
   ]
  },
  {
   "cell_type": "code",
   "execution_count": 31,
   "metadata": {},
   "outputs": [
    {
     "output_type": "execute_result",
     "data": {
      "text/plain": [
       "tensor([[0.6816, 0.9152, 0.3971, 0.8742, 0.4194],\n",
       "        [0.6816, 0.9152, 0.3971, 0.8742, 0.4194],\n",
       "        [0.5529, 0.9527, 0.0362, 0.1852, 0.3734],\n",
       "        [0.5529, 0.9527, 0.0362, 0.1852, 0.3734],\n",
       "        [0.5529, 0.9527, 0.0362, 0.1852, 0.3734]])"
      ]
     },
     "metadata": {},
     "execution_count": 31
    }
   ],
   "source": [
    "dgl.broadcast_nodes(bg, feat)"
   ]
  },
  {
   "cell_type": "code",
   "execution_count": 32,
   "metadata": {},
   "outputs": [
    {
     "output_type": "execute_result",
     "data": {
      "text/plain": [
       "tensor([0.6816, 0.6816, 0.9152, 0.9152, 0.3971, 0.3971, 0.8742, 0.8742, 0.4194,\n",
       "        0.4194])"
      ]
     },
     "metadata": {},
     "execution_count": 32
    }
   ],
   "source": [
    " dgl.broadcast_nodes(g1, feat[0])"
   ]
  },
  {
   "cell_type": "code",
   "execution_count": 33,
   "metadata": {},
   "outputs": [
    {
     "output_type": "execute_result",
     "data": {
      "text/plain": [
       "Graph(num_nodes=2, num_edges=0,\n",
       "      ndata_schemes={}\n",
       "      edata_schemes={})"
      ]
     },
     "metadata": {},
     "execution_count": 33
    }
   ],
   "source": [
    "g1"
   ]
  },
  {
   "cell_type": "code",
   "execution_count": 34,
   "metadata": {},
   "outputs": [
    {
     "output_type": "execute_result",
     "data": {
      "text/plain": [
       "tensor([0.6816, 0.9152, 0.3971, 0.8742, 0.4194])"
      ]
     },
     "metadata": {},
     "execution_count": 34
    }
   ],
   "source": [
    "feat[0]"
   ]
  },
  {
   "cell_type": "code",
   "execution_count": 40,
   "metadata": {},
   "outputs": [
    {
     "output_type": "execute_result",
     "data": {
      "text/plain": [
       "tensor(1)"
      ]
     },
     "metadata": {},
     "execution_count": 40
    }
   ],
   "source": [
    "th.tensor(1)"
   ]
  },
  {
   "cell_type": "code",
   "execution_count": 42,
   "metadata": {},
   "outputs": [
    {
     "output_type": "execute_result",
     "data": {
      "text/plain": [
       "tensor([[55.3652, 39.5316, 85.7056, 63.9572, 74.0253],\n",
       "        [67.6580, 37.9763, 39.4847,  8.7959, 77.0922],\n",
       "        [89.6989, 84.2112, 14.7311, 52.2300, 14.7533],\n",
       "        [22.4758, 20.8647, 67.0872, 20.2043, 48.9091],\n",
       "        [52.1034, 82.2312, 12.2040, 15.6744, 20.9669]])"
      ]
     },
     "metadata": {},
     "execution_count": 42
    }
   ],
   "source": [
    "th.rand(5,5) / th.tensor(0.01)"
   ]
  },
  {
   "cell_type": "code",
   "execution_count": null,
   "metadata": {},
   "outputs": [],
   "source": []
  },
  {
   "cell_type": "code",
   "execution_count": null,
   "metadata": {},
   "outputs": [],
   "source": []
  }
 ]
}